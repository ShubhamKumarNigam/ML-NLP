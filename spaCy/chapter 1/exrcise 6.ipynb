{
 "cells": [
  {
   "cell_type": "markdown",
   "metadata": {},
   "source": [
    "## Using the Matcher\n",
    "\n",
    "Let’s try spaCy’s rule-based Matcher. Write a pattern that can match the phrase “iPhone X” in the text.\n",
    "\n",
    "* Import the Matcher from spacy.matcher.\n",
    "* Initialize it with the nlp object’s shared vocab.\n",
    "* Create a pattern that matches the \"TEXT\" values of two tokens: \"iPhone\" and \"X\".\n",
    "* Use the matcher.add method to add the pattern to the matcher.\n",
    "* Call the matcher on the doc and store the result in the variable matches.\n",
    "* Iterate over the matches and get the matched span from the start to the end index."
   ]
  },
  {
   "cell_type": "code",
   "execution_count": null,
   "metadata": {},
   "outputs": [],
   "source": [
    "import spacy\n",
    "\n",
    "# Import the Matcher\n",
    "from spacy.____ import ____\n",
    "\n",
    "nlp = spacy.load(\"en_core_web_sm\")\n",
    "doc = nlp(\"Upcoming iPhone X release date leaked as Apple reveals pre-orders\")\n",
    "\n",
    "# Initialize the Matcher with the shared vocabulary\n",
    "matcher = ____(____.____)\n",
    "\n",
    "# Create a pattern matching two tokens: \"iPhone\" and \"X\"\n",
    "pattern = [____]\n",
    "\n",
    "# Add the pattern to the matcher\n",
    "____.____(\"IPHONE_X_PATTERN\", None, ____)\n",
    "\n",
    "# Use the matcher on the doc\n",
    "matches = ____\n",
    "print(\"Matches:\", [doc[start:end].text for match_id, start, end in matches])"
   ]
  }
 ],
 "metadata": {
  "kernelspec": {
   "display_name": "Python 3",
   "language": "python",
   "name": "python3"
  },
  "language_info": {
   "codemirror_mode": {
    "name": "ipython",
    "version": 3
   },
   "file_extension": ".py",
   "mimetype": "text/x-python",
   "name": "python",
   "nbconvert_exporter": "python",
   "pygments_lexer": "ipython3",
   "version": "3.7.7"
  }
 },
 "nbformat": 4,
 "nbformat_minor": 4
}
