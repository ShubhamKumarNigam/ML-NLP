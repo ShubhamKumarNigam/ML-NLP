{
 "cells": [
  {
   "cell_type": "markdown",
   "metadata": {},
   "source": [
    "## Cleaning and Tokenization"
   ]
  },
  {
   "cell_type": "code",
   "execution_count": 3,
   "metadata": {},
   "outputs": [],
   "source": [
    "import nltk\n",
    "from nltk.tokenize import word_tokenize\n",
    "import emoji\n",
    "import re"
   ]
  },
  {
   "cell_type": "code",
   "execution_count": 4,
   "metadata": {},
   "outputs": [],
   "source": [
    "text = 'Who ❤️ \"word embeddings\" in 2020? I do!!!'"
   ]
  },
  {
   "cell_type": "code",
   "execution_count": 8,
   "metadata": {},
   "outputs": [],
   "source": [
    "data = re.sub(r'[,!?;-]+', '.', text) #substitute special symbols to .\n",
    "data = nltk.word_tokenize(data) # tokenize string into words\n",
    "data = [ ch.lower() for ch in data\n",
    "        if ch.isalpha()\n",
    "        or ch == '.'\n",
    "        or emoji.get_emoji_regexp().search(ch)\n",
    "    ] # get text if token is alphabet, dot or emoji and remove numbers"
   ]
  },
  {
   "cell_type": "markdown",
   "metadata": {},
   "source": [
    "## Sliding window of words"
   ]
  },
  {
   "cell_type": "code",
   "execution_count": 13,
   "metadata": {},
   "outputs": [],
   "source": [
    "def get_windows(words, C):\n",
    "    i = C\n",
    "    while i < len(words) - C:\n",
    "        center_word = words[i]\n",
    "        context_words = words[(i - C) : i] + words[(i+1) : (i+C+1)]\n",
    "        yield context_words, center_word\n",
    "        i += 1"
   ]
  },
  {
   "cell_type": "code",
   "execution_count": 17,
   "metadata": {},
   "outputs": [
    {
     "name": "stdout",
     "output_type": "stream",
     "text": [
      "['who', '❤️', 'word', 'embeddings', 'in', '.', 'i', 'do', '.'] \n",
      "\n",
      "['who', '❤️', 'embeddings', 'in']\tword\n",
      "['❤️', 'word', 'in', '.']\tembeddings\n",
      "['word', 'embeddings', '.', 'i']\tin\n",
      "['embeddings', 'in', 'i', 'do']\t.\n",
      "['in', '.', 'do', '.']\ti\n"
     ]
    }
   ],
   "source": [
    "print(data,\"\\n\")\n",
    "for x, y in get_windows(data, 2):\n",
    "    print(f'{x}\\t{y}')"
   ]
  }
 ],
 "metadata": {
  "kernelspec": {
   "display_name": "Python 3",
   "language": "python",
   "name": "python3"
  },
  "language_info": {
   "codemirror_mode": {
    "name": "ipython",
    "version": 3
   },
   "file_extension": ".py",
   "mimetype": "text/x-python",
   "name": "python",
   "nbconvert_exporter": "python",
   "pygments_lexer": "ipython3",
   "version": "3.7.7"
  }
 },
 "nbformat": 4,
 "nbformat_minor": 4
}
