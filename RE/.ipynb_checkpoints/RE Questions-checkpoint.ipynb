{
 "cells": [
  {
   "cell_type": "markdown",
   "metadata": {
    "colab_type": "text",
    "id": "xT13Adp92AK2"
   },
   "source": [
    "# Regular Expression (RE)"
   ]
  },
  {
   "cell_type": "code",
   "execution_count": null,
   "metadata": {
    "colab": {},
    "colab_type": "code",
    "id": "DWlGky-uIav5"
   },
   "outputs": [],
   "source": [
    "# TODO: Remove all whitespaces from a string.\n",
    "\n",
    "text1 = ' Regular   Expresion '"
   ]
  },
  {
   "cell_type": "code",
   "execution_count": null,
   "metadata": {
    "colab": {},
    "colab_type": "code",
    "id": "buWv_3evJg7Y"
   },
   "outputs": [],
   "source": [
    "# TODO: Remove multiple spaces in a string.\n",
    "\n",
    "text1 = '        Regular   Expresion '"
   ]
  },
  {
   "cell_type": "code",
   "execution_count": null,
   "metadata": {
    "colab": {},
    "colab_type": "code",
    "id": "OwhTIMBbJj6E"
   },
   "outputs": [],
   "source": [
    "# TODO: Extract values between quotation marks of a string.\n",
    "\n",
    "text1 = '\"Natural\", \"Language\", \"Processing\"'"
   ]
  },
  {
   "cell_type": "code",
   "execution_count": null,
   "metadata": {
    "colab": {},
    "colab_type": "code",
    "id": "nkXNx8KQ2D1r"
   },
   "outputs": [],
   "source": [
    "#TODO: Print the Extracted domain ('gmail.com') from the sentence.\n",
    "\n",
    "sentence = \"From nlp.course.iitk@gmail.com Sat September  5 09:14:16 2020\""
   ]
  },
  {
   "cell_type": "code",
   "execution_count": null,
   "metadata": {
    "colab": {},
    "colab_type": "code",
    "id": "ne_F4VGd2wp0"
   },
   "outputs": [],
   "source": [
    "#TODO: Print the Extracted EMAIL from the sentence.\n",
    "\n",
    "sentence = \"From nlp.course.iitk@gmail.com Sat September  5 09:14:16 2020\""
   ]
  },
  {
   "cell_type": "code",
   "execution_count": null,
   "metadata": {
    "colab": {},
    "colab_type": "code",
    "id": "2EDnzurYAEYq"
   },
   "outputs": [],
   "source": [
    "#TODO: Remove leading zeros from an IP address.\n",
    "\n",
    "ip = \"216.08.094.196\""
   ]
  },
  {
   "cell_type": "code",
   "execution_count": null,
   "metadata": {
    "colab": {},
    "colab_type": "code",
    "id": "krCE1-t4DdIN"
   },
   "outputs": [],
   "source": [
    "#TODO: Remove lowercase substrings from a given string.\n",
    "\n",
    "str1 = 'CS698V/CS779: Statistical NATURAL LANGUAGE PROCESSING (NLP). Parsing: CFG, Lexicalized CFG, PCFGs, Dependency parsing'"
   ]
  },
  {
   "cell_type": "code",
   "execution_count": null,
   "metadata": {
    "colab": {},
    "colab_type": "code",
    "id": "SVcQGJJVFrDe"
   },
   "outputs": [],
   "source": [
    "# TODO: Insert spaces between words starting with capital letters.\n",
    "\n",
    "str1 = \"NaturalLanguageProcessing\""
   ]
  },
  {
   "cell_type": "code",
   "execution_count": null,
   "metadata": {
    "colab": {},
    "colab_type": "code",
    "id": "EBuVwCwnGmgu"
   },
   "outputs": [],
   "source": [
    "# TODO: Remove the parenthesis area in a string\n",
    "\n",
    "items = [\"Natural Language Processing (NLP)\", \"IITK\", \"gmail (.com)\", \"CS (779)\"]"
   ]
  },
  {
   "cell_type": "code",
   "execution_count": null,
   "metadata": {
    "colab": {},
    "colab_type": "code",
    "id": "g6sk7TBuHguO"
   },
   "outputs": [],
   "source": [
    "# TODO: Remove the ANSI escape sequences from a string.\n",
    "\n",
    "text = \"\\t\\u001b[0;35mCS779\\u001b[0m \\u001b[0;36mStatistical Natural Language Processing\\u001b[0m\""
   ]
  },
  {
   "cell_type": "markdown",
   "metadata": {
    "colab_type": "text",
    "id": "qBP7rGwV3Uw2"
   },
   "source": [
    "* Load the sample text (sample.txt).\n",
    "* Which records mail activity from various individuals in an open source project development team."
   ]
  },
  {
   "cell_type": "code",
   "execution_count": null,
   "metadata": {
    "colab": {},
    "colab_type": "code",
    "id": "u6OnYLUP3TM1"
   },
   "outputs": [],
   "source": [
    "# TODO: Search for lines that start with From and have an at sign"
   ]
  },
  {
   "cell_type": "code",
   "execution_count": null,
   "metadata": {
    "colab": {},
    "colab_type": "code",
    "id": "xqlg7Hyy4Bsy"
   },
   "outputs": [],
   "source": [
    "# TODO:\n",
    "# Search for lines that start with 'X' followed by any non\n",
    "# whitespace characters and ':'\n",
    "# followed by a space and any number.\n",
    "# The number can include a decimal."
   ]
  },
  {
   "cell_type": "code",
   "execution_count": null,
   "metadata": {
    "colab": {},
    "colab_type": "code",
    "id": "M-x_M6NZ5rc_"
   },
   "outputs": [],
   "source": [
    "# TODO:\n",
    "# Search for lines that start with 'X' followed by any\n",
    "# non whitespace characters and ':' followed by a space\n",
    "# and any number. The number can include a decimal.\n",
    "# Then print the number if it is greater than zero."
   ]
  },
  {
   "cell_type": "code",
   "execution_count": null,
   "metadata": {
    "colab": {},
    "colab_type": "code",
    "id": "y5imyX4b7Mel"
   },
   "outputs": [],
   "source": [
    "# TODO:\n",
    "# Search for lines that start with 'Details: rev='\n",
    "# followed by numbers and '.'\n",
    "# Then print the number if it is greater than zero"
   ]
  },
  {
   "cell_type": "code",
   "execution_count": null,
   "metadata": {
    "colab": {},
    "colab_type": "code",
    "id": "FXHs2m1z7Tad"
   },
   "outputs": [],
   "source": [
    "# TODO:\n",
    "# Search for lines that start with From and a character\n",
    "# followed by a two digit number between 00 and 99 followed by ':'\n",
    "# Then print the number if it is greater than zero"
   ]
  }
 ],
 "metadata": {
  "colab": {
   "authorship_tag": "ABX9TyOhtkoO42BSPwJZslPIClXL",
   "collapsed_sections": [],
   "name": "Assignment 1(b).ipynb",
   "provenance": []
  },
  "kernelspec": {
   "display_name": "Python 3",
   "language": "python",
   "name": "python3"
  },
  "language_info": {
   "codemirror_mode": {
    "name": "ipython",
    "version": 3
   },
   "file_extension": ".py",
   "mimetype": "text/x-python",
   "name": "python",
   "nbconvert_exporter": "python",
   "pygments_lexer": "ipython3",
   "version": "3.7.7"
  }
 },
 "nbformat": 4,
 "nbformat_minor": 1
}
