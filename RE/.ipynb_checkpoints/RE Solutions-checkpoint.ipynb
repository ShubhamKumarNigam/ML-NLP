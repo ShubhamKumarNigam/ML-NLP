{
 "cells": [
  {
   "cell_type": "markdown",
   "metadata": {
    "colab_type": "text",
    "id": "hpnvTh0EvsCg"
   },
   "source": [
    "# Regular Expresion(RE)\n",
    "### Tutorials Taken from [here](https://www.py4e.com/html3/11-regex) and [here](https://www.w3resource.com/python-exercises/re/)."
   ]
  },
  {
   "cell_type": "code",
   "execution_count": 13,
   "metadata": {
    "colab": {},
    "colab_type": "code",
    "id": "iUm0gmt_vfAh"
   },
   "outputs": [],
   "source": [
    "import re\n",
    "import os"
   ]
  },
  {
   "cell_type": "code",
   "execution_count": null,
   "metadata": {
    "colab": {
     "base_uri": "https://localhost:8080/",
     "height": 51
    },
    "colab_type": "code",
    "executionInfo": {
     "elapsed": 1547,
     "status": "ok",
     "timestamp": 1598048975538,
     "user": {
      "displayName": "Shubham Kumar Nigam",
      "photoUrl": "https://lh3.googleusercontent.com/a-/AOh14Gj1zJvawPLLeUfrAR8JHwNEE6HkXwWBbe2APV7sIw=s64",
      "userId": "09156348742814193128"
     },
     "user_tz": -330
    },
    "id": "XYdPAPfAH498",
    "outputId": "fceb102d-6204-42b3-afd3-f8fb6da3d5a5"
   },
   "outputs": [
    {
     "name": "stdout",
     "output_type": "stream",
     "text": [
      "Original string:        Regular   Expresion \n",
      "Without extra spaces: RegularExpresion\n"
     ]
    }
   ],
   "source": [
    "# TODO: Remove all whitespaces from a string.\n",
    "\n",
    "text1 = '       Regular   Expresion '\n",
    "print(\"Original string:\",text1)\n",
    "print(\"Without extra spaces:\",re.sub(r'\\s+', '',text1))"
   ]
  },
  {
   "cell_type": "code",
   "execution_count": null,
   "metadata": {
    "colab": {
     "base_uri": "https://localhost:8080/",
     "height": 51
    },
    "colab_type": "code",
    "executionInfo": {
     "elapsed": 1537,
     "status": "ok",
     "timestamp": 1598048960563,
     "user": {
      "displayName": "Shubham Kumar Nigam",
      "photoUrl": "https://lh3.googleusercontent.com/a-/AOh14Gj1zJvawPLLeUfrAR8JHwNEE6HkXwWBbe2APV7sIw=s64",
      "userId": "09156348742814193128"
     },
     "user_tz": -330
    },
    "id": "O3wgbChNI0xy",
    "outputId": "0dbd3d89-934a-401a-9f12-db5130fbf78d"
   },
   "outputs": [
    {
     "name": "stdout",
     "output_type": "stream",
     "text": [
      "Original string:         Regular   Expresion \n",
      "Without extra spaces:  Regular Expresion \n"
     ]
    }
   ],
   "source": [
    "# TODO: Remove multiple spaces in a string.\n",
    "\n",
    "text1 = '        Regular   Expresion '\n",
    "print(\"Original string:\",text1)\n",
    "print(\"Without extra spaces:\",re.sub(' +',' ',text1))"
   ]
  },
  {
   "cell_type": "code",
   "execution_count": null,
   "metadata": {
    "colab": {
     "base_uri": "https://localhost:8080/",
     "height": 34
    },
    "colab_type": "code",
    "executionInfo": {
     "elapsed": 2100,
     "status": "ok",
     "timestamp": 1598049070634,
     "user": {
      "displayName": "Shubham Kumar Nigam",
      "photoUrl": "https://lh3.googleusercontent.com/a-/AOh14Gj1zJvawPLLeUfrAR8JHwNEE6HkXwWBbe2APV7sIw=s64",
      "userId": "09156348742814193128"
     },
     "user_tz": -330
    },
    "id": "rhEH3-OKJMOg",
    "outputId": "88159879-0999-41e0-bacf-a86b6e1fe323"
   },
   "outputs": [
    {
     "name": "stdout",
     "output_type": "stream",
     "text": [
      "['Natural', 'Language', 'Processing']\n"
     ]
    }
   ],
   "source": [
    "# TODO: Extract values between quotation marks of a string.\n",
    "\n",
    "text1 = '\"Natural\", \"Language\", \"Processing\"'\n",
    "print(re.findall(r'\"(.*?)\"', text1))"
   ]
  },
  {
   "cell_type": "code",
   "execution_count": null,
   "metadata": {
    "colab": {
     "base_uri": "https://localhost:8080/",
     "height": 34
    },
    "colab_type": "code",
    "executionInfo": {
     "elapsed": 1358,
     "status": "ok",
     "timestamp": 1598042618455,
     "user": {
      "displayName": "Shubham Kumar Nigam",
      "photoUrl": "https://lh3.googleusercontent.com/a-/AOh14Gj1zJvawPLLeUfrAR8JHwNEE6HkXwWBbe2APV7sIw=s64",
      "userId": "09156348742814193128"
     },
     "user_tz": -330
    },
    "id": "4YGV0i44v594",
    "outputId": "71abc6e9-449d-4bb3-b319-2d520457e2ab"
   },
   "outputs": [
    {
     "name": "stdout",
     "output_type": "stream",
     "text": [
      "['gmail.com']\n"
     ]
    }
   ],
   "source": [
    "# TODO: Extract domain ('gmail.com') from the Email Address.\n",
    "\n",
    "sentence = \"From nlp.course.iitk@gmail.com Sat September  5 09:14:16 2020\"\n",
    "domain = re.findall(\"@(\\S+)\", sentence)\n",
    "print(domain)"
   ]
  },
  {
   "cell_type": "code",
   "execution_count": null,
   "metadata": {
    "colab": {
     "base_uri": "https://localhost:8080/",
     "height": 34
    },
    "colab_type": "code",
    "executionInfo": {
     "elapsed": 2533,
     "status": "ok",
     "timestamp": 1598042752090,
     "user": {
      "displayName": "Shubham Kumar Nigam",
      "photoUrl": "https://lh3.googleusercontent.com/a-/AOh14Gj1zJvawPLLeUfrAR8JHwNEE6HkXwWBbe2APV7sIw=s64",
      "userId": "09156348742814193128"
     },
     "user_tz": -330
    },
    "id": "YcZPQz0mv6wQ",
    "outputId": "b382830b-9cba-4064-8852-dae6fd26e78f"
   },
   "outputs": [
    {
     "name": "stdout",
     "output_type": "stream",
     "text": [
      "['nlp.course.iitk@gmail.com']\n"
     ]
    }
   ],
   "source": [
    "# TODO: Extract the Email address\n",
    "\n",
    "sentence = \"From nlp.course.iitk@gmail.com Sat September  5 09:14:16 2020\"\n",
    "y = re.findall(\"\\S+?@\\S+\", sentence)\n",
    "print(y)"
   ]
  },
  {
   "cell_type": "code",
   "execution_count": null,
   "metadata": {
    "colab": {
     "base_uri": "https://localhost:8080/",
     "height": 34
    },
    "colab_type": "code",
    "executionInfo": {
     "elapsed": 1537,
     "status": "ok",
     "timestamp": 1598046605972,
     "user": {
      "displayName": "Shubham Kumar Nigam",
      "photoUrl": "https://lh3.googleusercontent.com/a-/AOh14Gj1zJvawPLLeUfrAR8JHwNEE6HkXwWBbe2APV7sIw=s64",
      "userId": "09156348742814193128"
     },
     "user_tz": -330
    },
    "id": "5FZWRuAX_5Fj",
    "outputId": "ea560287-d57c-424d-dff7-fc60331f9376"
   },
   "outputs": [
    {
     "name": "stdout",
     "output_type": "stream",
     "text": [
      "216.8.94.196\n"
     ]
    }
   ],
   "source": [
    "# Remove leading zeros from an IP address.\n",
    "\n",
    "ip = \"216.08.094.196\"\n",
    "string = re.sub('\\.[0]*', '.', ip)\n",
    "print(string)"
   ]
  },
  {
   "cell_type": "code",
   "execution_count": null,
   "metadata": {
    "colab": {
     "base_uri": "https://localhost:8080/",
     "height": 85
    },
    "colab_type": "code",
    "executionInfo": {
     "elapsed": 1357,
     "status": "ok",
     "timestamp": 1598047425273,
     "user": {
      "displayName": "Shubham Kumar Nigam",
      "photoUrl": "https://lh3.googleusercontent.com/a-/AOh14Gj1zJvawPLLeUfrAR8JHwNEE6HkXwWBbe2APV7sIw=s64",
      "userId": "09156348742814193128"
     },
     "user_tz": -330
    },
    "id": "2RuVm2vv_5LH",
    "outputId": "51eb021b-f9ea-4748-dcda-3e3d78ed26fa"
   },
   "outputs": [
    {
     "name": "stdout",
     "output_type": "stream",
     "text": [
      "Original string:\n",
      "CS698V/CS779: Statistical NATURAL LANGUAGE PROCESSING (NLP). Parsing: CFG, Lexicalized CFG, PCFGs, Dependency parsing\n",
      "After removing lowercase letters, above string becomes:\n",
      "CS698V/CS779: S NATURAL LANGUAGE PROCESSING (NLP). P: CFG, L CFG, PCFG, D \n"
     ]
    }
   ],
   "source": [
    "# Remove lowercase substrings from a given string.\n",
    "\n",
    "str1 = 'CS698V/CS779: Statistical NATURAL LANGUAGE PROCESSING (NLP). Parsing: CFG, Lexicalized CFG, PCFGs, Dependency parsing'\n",
    "print(\"Original string:\")\n",
    "print(str1)\n",
    "print(\"After removing lowercase letters, above string becomes:\")\n",
    "remove_lower = lambda text: re.sub('[a-z]', '', text)\n",
    "result =  remove_lower(str1)\n",
    "print(result)"
   ]
  },
  {
   "cell_type": "code",
   "execution_count": null,
   "metadata": {
    "colab": {
     "base_uri": "https://localhost:8080/",
     "height": 34
    },
    "colab_type": "code",
    "executionInfo": {
     "elapsed": 1448,
     "status": "ok",
     "timestamp": 1598048048928,
     "user": {
      "displayName": "Shubham Kumar Nigam",
      "photoUrl": "https://lh3.googleusercontent.com/a-/AOh14Gj1zJvawPLLeUfrAR8JHwNEE6HkXwWBbe2APV7sIw=s64",
      "userId": "09156348742814193128"
     },
     "user_tz": -330
    },
    "id": "j9OZrsw1_451",
    "outputId": "7607fbf9-5122-46e4-a7b6-a9f1eb3e0adc"
   },
   "outputs": [
    {
     "name": "stdout",
     "output_type": "stream",
     "text": [
      "Natural Language Processing\n"
     ]
    }
   ],
   "source": [
    "# Insert spaces between words starting with capital letters.\n",
    "\n",
    "str1 = \"NaturalLanguageProcessing\"\n",
    "string = re.sub(r\"(\\w)([A-Z])\", r\"\\1 \\2\", str1)\n",
    "print(string)"
   ]
  },
  {
   "cell_type": "code",
   "execution_count": null,
   "metadata": {
    "colab": {
     "base_uri": "https://localhost:8080/",
     "height": 85
    },
    "colab_type": "code",
    "executionInfo": {
     "elapsed": 1786,
     "status": "ok",
     "timestamp": 1598048288331,
     "user": {
      "displayName": "Shubham Kumar Nigam",
      "photoUrl": "https://lh3.googleusercontent.com/a-/AOh14Gj1zJvawPLLeUfrAR8JHwNEE6HkXwWBbe2APV7sIw=s64",
      "userId": "09156348742814193128"
     },
     "user_tz": -330
    },
    "id": "w4LJzV1QF4RK",
    "outputId": "268b82db-3ba8-4194-d448-731bd36e2101"
   },
   "outputs": [
    {
     "name": "stdout",
     "output_type": "stream",
     "text": [
      "Natural Language Processing\n",
      "IITK\n",
      "gmail\n",
      "CS\n"
     ]
    }
   ],
   "source": [
    "# Remove the parenthesis area in a string\n",
    "\n",
    "items = [\"Natural Language Processing (NLP)\", \"IITK\", \"gmail (.com)\", \"CS (779)\"]\n",
    "\n",
    "for item in items:\n",
    "    print(re.sub(r\" ?\\([^)]+\\)\", \"\", item))"
   ]
  },
  {
   "cell_type": "code",
   "execution_count": null,
   "metadata": {
    "colab": {
     "base_uri": "https://localhost:8080/",
     "height": 51
    },
    "colab_type": "code",
    "executionInfo": {
     "elapsed": 1368,
     "status": "ok",
     "timestamp": 1598048501956,
     "user": {
      "displayName": "Shubham Kumar Nigam",
      "photoUrl": "https://lh3.googleusercontent.com/a-/AOh14Gj1zJvawPLLeUfrAR8JHwNEE6HkXwWBbe2APV7sIw=s64",
      "userId": "09156348742814193128"
     },
     "user_tz": -330
    },
    "id": "khSidspkHDlU",
    "outputId": "6d2ec551-7237-4181-f111-f6b913ab01c3"
   },
   "outputs": [
    {
     "name": "stdout",
     "output_type": "stream",
     "text": [
      "Original Text:  \t\u001b[0;35mCS779\u001b[0m \u001b[0;36mStatistical Natural Language Processing\u001b[0m\n",
      "New Text:  \tCS779 Statistical Natural Language Processing\n"
     ]
    }
   ],
   "source": [
    "# Remove the ANSI escape sequences from a string.\n",
    "\n",
    "text = \"\\t\\u001b[0;35mCS779\\u001b[0m \\u001b[0;36mStatistical Natural Language Processing\\u001b[0m\"\n",
    "print(\"Original Text: \",text)\n",
    "reaesc = re.compile(r'\\x1b[^m]*m')\n",
    "new_text = reaesc.sub('', text)\n",
    "print(\"New Text: \",new_text)"
   ]
  },
  {
   "cell_type": "code",
   "execution_count": null,
   "metadata": {
    "colab": {},
    "colab_type": "code",
    "id": "i_jItdWwzlgP"
   },
   "outputs": [],
   "source": [
    "from google.colab import drive\n",
    "drive.mount(\"/content/drive\")\n"
   ]
  },
  {
   "cell_type": "code",
   "execution_count": 37,
   "metadata": {
    "colab": {},
    "colab_type": "code",
    "id": "fncyFxisMQl3"
   },
   "outputs": [],
   "source": [
    "text = \"/Users/shubhamkumarnigam/Documents/GitHub/ML-NLP/RE/\"  #Path of sample.txt file"
   ]
  },
  {
   "cell_type": "markdown",
   "metadata": {
    "colab_type": "text",
    "id": "3tk5XIjh08nX"
   },
   "source": [
    "## This is a sample of a text file which records mail activity from various individuals in an open source project development team."
   ]
  },
  {
   "cell_type": "code",
   "execution_count": 17,
   "metadata": {
    "colab": {
     "base_uri": "https://localhost:8080/",
     "height": 476
    },
    "colab_type": "code",
    "executionInfo": {
     "elapsed": 1645,
     "status": "ok",
     "timestamp": 1598049482242,
     "user": {
      "displayName": "Shubham Kumar Nigam",
      "photoUrl": "https://lh3.googleusercontent.com/a-/AOh14Gj1zJvawPLLeUfrAR8JHwNEE6HkXwWBbe2APV7sIw=s64",
      "userId": "09156348742814193128"
     },
     "user_tz": -330
    },
    "id": "FFJw7RhJ32PV",
    "outputId": "d6d5f40c-4906-4189-e3ce-432392a50330"
   },
   "outputs": [
    {
     "name": "stdout",
     "output_type": "stream",
     "text": [
      "From: stephen.marquard@uct.ac.za\n",
      "From: louis@media.berkeley.edu\n",
      "From: zqian@umich.edu\n",
      "From: rjlowe@iupui.edu\n",
      "From: zqian@umich.edu\n",
      "From: rjlowe@iupui.edu\n",
      "From: cwen@iupui.edu\n",
      "From: cwen@iupui.edu\n",
      "From: gsilver@umich.edu\n",
      "From: gsilver@umich.edu\n",
      "From: zqian@umich.edu\n",
      "From: gsilver@umich.edu\n",
      "From: wagnermr@iupui.edu\n",
      "From: zqian@umich.edu\n",
      "From: antranig@caret.cam.ac.uk\n",
      "From: gopal.ramasammycook@gmail.com\n",
      "From: david.horwitz@uct.ac.za\n",
      "From: david.horwitz@uct.ac.za\n",
      "From: david.horwitz@uct.ac.za\n",
      "From: david.horwitz@uct.ac.za\n",
      "From: stephen.marquard@uct.ac.za\n",
      "From: louis@media.berkeley.edu\n",
      "From: louis@media.berkeley.edu\n",
      "From: ray@media.berkeley.edu\n",
      "From: cwen@iupui.edu\n",
      "From: cwen@iupui.edu\n",
      "From: cwen@iupui.edu\n"
     ]
    }
   ],
   "source": [
    "# Search for lines that start with From and have an at sign\n",
    "\n",
    "hand = open(text + 'sample.txt')\n",
    "for line in hand:\n",
    "    line = line.rstrip()\n",
    "    if re.search('^From:.+@', line):\n",
    "        print(line)"
   ]
  },
  {
   "cell_type": "code",
   "execution_count": null,
   "metadata": {
    "colab": {
     "base_uri": "https://localhost:8080/",
     "height": 935
    },
    "colab_type": "code",
    "executionInfo": {
     "elapsed": 1378,
     "status": "ok",
     "timestamp": 1598044852979,
     "user": {
      "displayName": "Shubham Kumar Nigam",
      "photoUrl": "https://lh3.googleusercontent.com/a-/AOh14Gj1zJvawPLLeUfrAR8JHwNEE6HkXwWBbe2APV7sIw=s64",
      "userId": "09156348742814193128"
     },
     "user_tz": -330
    },
    "id": "Hj0AQIhA4IKH",
    "outputId": "fb70f935-157f-47fa-b74b-80b85af7d8df"
   },
   "outputs": [
    {
     "name": "stdout",
     "output_type": "stream",
     "text": [
      "X-DSPAM-Confidence: 0.8475\n",
      "X-DSPAM-Probability: 0.0000\n",
      "X-DSPAM-Confidence: 0.6178\n",
      "X-DSPAM-Probability: 0.0000\n",
      "X-DSPAM-Confidence: 0.6961\n",
      "X-DSPAM-Probability: 0.0000\n",
      "X-DSPAM-Confidence: 0.7565\n",
      "X-DSPAM-Probability: 0.0000\n",
      "X-DSPAM-Confidence: 0.7626\n",
      "X-DSPAM-Probability: 0.0000\n",
      "X-DSPAM-Confidence: 0.7556\n",
      "X-DSPAM-Probability: 0.0000\n",
      "X-DSPAM-Confidence: 0.7002\n",
      "X-DSPAM-Probability: 0.0000\n",
      "X-DSPAM-Confidence: 0.7615\n",
      "X-DSPAM-Probability: 0.0000\n",
      "X-DSPAM-Confidence: 0.7601\n",
      "X-DSPAM-Probability: 0.0000\n",
      "X-DSPAM-Confidence: 0.7605\n",
      "X-DSPAM-Probability: 0.0000\n",
      "X-DSPAM-Confidence: 0.6959\n",
      "X-DSPAM-Probability: 0.0000\n",
      "X-DSPAM-Confidence: 0.7606\n",
      "X-DSPAM-Probability: 0.0000\n",
      "X-DSPAM-Confidence: 0.7559\n",
      "X-DSPAM-Probability: 0.0000\n",
      "X-DSPAM-Confidence: 0.7605\n",
      "X-DSPAM-Probability: 0.0000\n",
      "X-DSPAM-Confidence: 0.6932\n",
      "X-DSPAM-Probability: 0.0000\n",
      "X-DSPAM-Confidence: 0.7558\n",
      "X-DSPAM-Probability: 0.0000\n",
      "X-DSPAM-Confidence: 0.6526\n",
      "X-DSPAM-Probability: 0.0000\n",
      "X-DSPAM-Confidence: 0.6948\n",
      "X-DSPAM-Probability: 0.0000\n",
      "X-DSPAM-Confidence: 0.6528\n",
      "X-DSPAM-Probability: 0.0000\n",
      "X-DSPAM-Confidence: 0.7002\n",
      "X-DSPAM-Probability: 0.0000\n",
      "X-DSPAM-Confidence: 0.7554\n",
      "X-DSPAM-Probability: 0.0000\n",
      "X-DSPAM-Confidence: 0.6956\n",
      "X-DSPAM-Probability: 0.0000\n",
      "X-DSPAM-Confidence: 0.6959\n",
      "X-DSPAM-Probability: 0.0000\n",
      "X-DSPAM-Confidence: 0.7556\n",
      "X-DSPAM-Probability: 0.0000\n",
      "X-DSPAM-Confidence: 0.9846\n",
      "X-DSPAM-Probability: 0.0000\n",
      "X-DSPAM-Confidence: 0.8509\n",
      "X-DSPAM-Probability: 0.0000\n",
      "X-DSPAM-Confidence: 0.9907\n",
      "X-DSPAM-Probability: 0.0000\n"
     ]
    }
   ],
   "source": [
    "# Search for lines that start with 'X' followed by any non\n",
    "# whitespace characters and ':'\n",
    "# followed by a space and any number.\n",
    "# The number can include a decimal.\n",
    "\n",
    "for line in hand:\n",
    "    line = line.rstrip()\n",
    "    if re.search('^X\\S*: [0-9.]+', line):\n",
    "        print(line)"
   ]
  },
  {
   "cell_type": "code",
   "execution_count": null,
   "metadata": {
    "colab": {
     "base_uri": "https://localhost:8080/",
     "height": 935
    },
    "colab_type": "code",
    "executionInfo": {
     "elapsed": 1280,
     "status": "ok",
     "timestamp": 1598044991804,
     "user": {
      "displayName": "Shubham Kumar Nigam",
      "photoUrl": "https://lh3.googleusercontent.com/a-/AOh14Gj1zJvawPLLeUfrAR8JHwNEE6HkXwWBbe2APV7sIw=s64",
      "userId": "09156348742814193128"
     },
     "user_tz": -330
    },
    "id": "IyFj1FH84yCT",
    "outputId": "ec7127b0-97e2-4fa8-effd-9651ee9339a7"
   },
   "outputs": [
    {
     "name": "stdout",
     "output_type": "stream",
     "text": [
      "['0.8475']\n",
      "['0.0000']\n",
      "['0.6178']\n",
      "['0.0000']\n",
      "['0.6961']\n",
      "['0.0000']\n",
      "['0.7565']\n",
      "['0.0000']\n",
      "['0.7626']\n",
      "['0.0000']\n",
      "['0.7556']\n",
      "['0.0000']\n",
      "['0.7002']\n",
      "['0.0000']\n",
      "['0.7615']\n",
      "['0.0000']\n",
      "['0.7601']\n",
      "['0.0000']\n",
      "['0.7605']\n",
      "['0.0000']\n",
      "['0.6959']\n",
      "['0.0000']\n",
      "['0.7606']\n",
      "['0.0000']\n",
      "['0.7559']\n",
      "['0.0000']\n",
      "['0.7605']\n",
      "['0.0000']\n",
      "['0.6932']\n",
      "['0.0000']\n",
      "['0.7558']\n",
      "['0.0000']\n",
      "['0.6526']\n",
      "['0.0000']\n",
      "['0.6948']\n",
      "['0.0000']\n",
      "['0.6528']\n",
      "['0.0000']\n",
      "['0.7002']\n",
      "['0.0000']\n",
      "['0.7554']\n",
      "['0.0000']\n",
      "['0.6956']\n",
      "['0.0000']\n",
      "['0.6959']\n",
      "['0.0000']\n",
      "['0.7556']\n",
      "['0.0000']\n",
      "['0.9846']\n",
      "['0.0000']\n",
      "['0.8509']\n",
      "['0.0000']\n",
      "['0.9907']\n",
      "['0.0000']\n"
     ]
    }
   ],
   "source": [
    "# Search for lines that start with 'X' followed by any\n",
    "# non whitespace characters and ':' followed by a space\n",
    "# and any number. The number can include a decimal.\n",
    "# Then print the number if it is greater than zero.\n",
    "\n",
    "for line in hand:\n",
    "    line = line.rstrip()\n",
    "    x = re.findall('^X\\S*: ([0-9.]+)', line)\n",
    "    if len(x) > 0:\n",
    "        print(x)"
   ]
  },
  {
   "cell_type": "code",
   "execution_count": null,
   "metadata": {
    "colab": {
     "base_uri": "https://localhost:8080/",
     "height": 476
    },
    "colab_type": "code",
    "executionInfo": {
     "elapsed": 1291,
     "status": "ok",
     "timestamp": 1598045215867,
     "user": {
      "displayName": "Shubham Kumar Nigam",
      "photoUrl": "https://lh3.googleusercontent.com/a-/AOh14Gj1zJvawPLLeUfrAR8JHwNEE6HkXwWBbe2APV7sIw=s64",
      "userId": "09156348742814193128"
     },
     "user_tz": -330
    },
    "id": "I5oxJY9k52tS",
    "outputId": "93ee8e6a-79d2-4d89-e50f-e26321a8e80b"
   },
   "outputs": [
    {
     "name": "stdout",
     "output_type": "stream",
     "text": [
      "['39772']\n",
      "['39771']\n",
      "['39770']\n",
      "['39769']\n",
      "['39766']\n",
      "['39765']\n",
      "['39764']\n",
      "['39763']\n",
      "['39762']\n",
      "['39761']\n",
      "['39760']\n",
      "['39759']\n",
      "['39758']\n",
      "['39757']\n",
      "['39756']\n",
      "['39755']\n",
      "['39754']\n",
      "['39753']\n",
      "['39752']\n",
      "['39751']\n",
      "['39750']\n",
      "['39749']\n",
      "['39746']\n",
      "['39745']\n",
      "['39744']\n",
      "['39743']\n",
      "['39742']\n"
     ]
    }
   ],
   "source": [
    "# Search for lines that start with 'Details: rev='\n",
    "# followed by numbers and '.'\n",
    "# Then print the number if it is greater than zero\n",
    "\n",
    "for line in hand:\n",
    "    line = line.rstrip()\n",
    "    x = re.findall('^Details:.*rev=([0-9.]+)', line)\n",
    "    if len(x) > 0:\n",
    "        print(x)"
   ]
  },
  {
   "cell_type": "code",
   "execution_count": null,
   "metadata": {
    "colab": {
     "base_uri": "https://localhost:8080/",
     "height": 476
    },
    "colab_type": "code",
    "executionInfo": {
     "elapsed": 2439,
     "status": "ok",
     "timestamp": 1598045400660,
     "user": {
      "displayName": "Shubham Kumar Nigam",
      "photoUrl": "https://lh3.googleusercontent.com/a-/AOh14Gj1zJvawPLLeUfrAR8JHwNEE6HkXwWBbe2APV7sIw=s64",
      "userId": "09156348742814193128"
     },
     "user_tz": -330
    },
    "id": "KKL6UNcn6tZJ",
    "outputId": "fe096a38-bdf7-47a2-d007-9f5a641648dc"
   },
   "outputs": [
    {
     "name": "stdout",
     "output_type": "stream",
     "text": [
      "['09']\n",
      "['18']\n",
      "['16']\n",
      "['15']\n",
      "['15']\n",
      "['14']\n",
      "['11']\n",
      "['11']\n",
      "['11']\n",
      "['11']\n",
      "['11']\n",
      "['11']\n",
      "['10']\n",
      "['10']\n",
      "['10']\n",
      "['09']\n",
      "['07']\n",
      "['06']\n",
      "['04']\n",
      "['04']\n",
      "['04']\n",
      "['19']\n",
      "['17']\n",
      "['17']\n",
      "['16']\n",
      "['16']\n",
      "['16']\n"
     ]
    }
   ],
   "source": [
    "# Search for lines that start with From and a character\n",
    "# followed by a two digit number between 00 and 99 followed by ':'\n",
    "# Then print the number if it is greater than zero\n",
    "\n",
    "hand = open('sample.txt')\n",
    "for line in hand:\n",
    "    line = line.rstrip()\n",
    "    x = re.findall('^From .* ([0-9][0-9]):', line)\n",
    "    if len(x) > 0: print(x)"
   ]
  }
 ],
 "metadata": {
  "colab": {
   "authorship_tag": "ABX9TyNBfESsbDycp5lWHSfRyD9J",
   "collapsed_sections": [],
   "mount_file_id": "1k73S3_YnaxKARFRzaslTwznfTvTABxLA",
   "name": "Solution 1(b).ipynb",
   "provenance": []
  },
  "kernelspec": {
   "display_name": "Python 3",
   "language": "python",
   "name": "python3"
  },
  "language_info": {
   "codemirror_mode": {
    "name": "ipython",
    "version": 3
   },
   "file_extension": ".py",
   "mimetype": "text/x-python",
   "name": "python",
   "nbconvert_exporter": "python",
   "pygments_lexer": "ipython3",
   "version": "3.7.7"
  }
 },
 "nbformat": 4,
 "nbformat_minor": 1
}
