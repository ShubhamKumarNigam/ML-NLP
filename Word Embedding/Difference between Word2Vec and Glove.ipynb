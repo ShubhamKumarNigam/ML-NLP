{
 "cells": [
  {
   "cell_type": "markdown",
   "metadata": {},
   "source": [
    "# Difference between Word2Vec and Glove"
   ]
  },
  {
   "cell_type": "markdown",
   "metadata": {},
   "source": [
    "Word representations can be divided into two main streams, \n",
    "1. Statistic-based (LDA -- Latent Dirichlet Allocation) \n",
    "2. Learning-based (Word2Vec)."
   ]
  },
  {
   "cell_type": "markdown",
   "metadata": {},
   "source": [
    "## LDA\n",
    "\n",
    "LDA produces the low dimensional word vectors by singular value decomposition (SVD) on the co-occurrence matrix.\n",
    "\n",
    "## Word2Vec\n",
    "\n",
    "Word2Vec employs a three-layer neural network to do the center-context word pair classification task where word vectors are just the by-product."
   ]
  },
  {
   "cell_type": "markdown",
   "metadata": {},
   "source": [
    "## LDA v/s Word2Vec\n",
    "\n",
    "In Word2Vec __similar words__ are located __together__ in the vector space and __arithmetic operations__ on word vectors can pose __semantic or syntactic relationships__.\n",
    "\n",
    "However, LDA __cannot maintain such linear relationship__ in vector space."
   ]
  },
  {
   "cell_type": "markdown",
   "metadata": {},
   "source": [
    "## GloVe\n",
    "\n",
    "* The motivation of GloVe is to force the model to learn such linear relationship based on the __co-occurreence matrix__ explicitly. \n",
    "* Essentially, GloVe is a __log-bilinear model__ with a __weighted least-squares__ objective.\n",
    "* Obviously, it is a __hybrid method__ that uses __machine learning based on the statistic matrix__."
   ]
  },
  {
   "cell_type": "markdown",
   "metadata": {},
   "source": [
    "## Word2Vec v/s GloVe\n",
    "\n",
    "In word2vec, Skipgram models try to capture co-occurrence one window at a time\n",
    "In Glove it tries to capture the counts of overall statistics how often it appears."
   ]
  },
  {
   "cell_type": "markdown",
   "metadata": {},
   "source": []
  },
  {
   "cell_type": "markdown",
   "metadata": {},
   "source": []
  },
  {
   "cell_type": "markdown",
   "metadata": {},
   "source": []
  },
  {
   "cell_type": "markdown",
   "metadata": {},
   "source": []
  },
  {
   "cell_type": "markdown",
   "metadata": {},
   "source": []
  },
  {
   "cell_type": "markdown",
   "metadata": {},
   "source": []
  },
  {
   "cell_type": "markdown",
   "metadata": {},
   "source": []
  },
  {
   "cell_type": "markdown",
   "metadata": {},
   "source": []
  }
 ],
 "metadata": {
  "kernelspec": {
   "display_name": "Python 3",
   "language": "python",
   "name": "python3"
  },
  "language_info": {
   "codemirror_mode": {
    "name": "ipython",
    "version": 3
   },
   "file_extension": ".py",
   "mimetype": "text/x-python",
   "name": "python",
   "nbconvert_exporter": "python",
   "pygments_lexer": "ipython3",
   "version": "3.7.7"
  }
 },
 "nbformat": 4,
 "nbformat_minor": 4
}
